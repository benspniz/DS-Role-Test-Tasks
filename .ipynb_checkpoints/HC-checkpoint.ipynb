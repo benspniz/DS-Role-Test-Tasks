{
 "cells": [
  {
   "cell_type": "markdown",
   "metadata": {},
   "source": [
    "## Import Relevant Libraries"
   ]
  },
  {
   "cell_type": "code",
   "execution_count": null,
   "metadata": {},
   "outputs": [],
   "source": [
    "import numpy as np\n",
    "import pandas as pd\n",
    "\n",
    "from scipy.cluster.hierarchy import dendrogram, linkage#, fcluster,cophenet\n",
    "# from scipy.spatial.distance import pdist\n",
    "\n",
    "import matplotlib.pyplot as plt\n",
    "import seaborn as sns\n",
    "sns.set()\n",
    "\n",
    "from sklearn.cluster import AgglomerativeClustering\n",
    "import sklearn.metrics as sm"
   ]
  },
  {
   "cell_type": "markdown",
   "metadata": {},
   "source": [
    "## Data"
   ]
  },
  {
   "cell_type": "code",
   "execution_count": null,
   "metadata": {
    "scrolled": false
   },
   "outputs": [],
   "source": [
    "# Loading, checking for missing values & if not then displaying\n",
    "df = pd.read_csv(\"Iris.csv\", index_col ='Id')\n",
    "df"
   ]
  },
  {
   "cell_type": "code",
   "execution_count": null,
   "metadata": {
    "scrolled": true
   },
   "outputs": [],
   "source": [
    "# Checking for missing values\n",
    "df.isna().sum()"
   ]
  },
  {
   "cell_type": "markdown",
   "metadata": {},
   "source": [
    "There are no missing values."
   ]
  },
  {
   "cell_type": "markdown",
   "metadata": {},
   "source": [
    "## Data Visualization"
   ]
  },
  {
   "cell_type": "code",
   "execution_count": null,
   "metadata": {},
   "outputs": [],
   "source": [
    "# Checking How many unique species of flowers are there\n",
    "df.Species.unique()"
   ]
  },
  {
   "cell_type": "code",
   "execution_count": null,
   "metadata": {},
   "outputs": [],
   "source": [
    "# Splitting the data set according to species\n",
    "df_setosa = df[df['Species']=='Iris-setosa']\n",
    "df_versicolor = df[df['Species']=='Iris-versicolor']\n",
    "df_virginica = df[df['Species']=='Iris-virginica']"
   ]
  },
  {
   "cell_type": "code",
   "execution_count": null,
   "metadata": {},
   "outputs": [],
   "source": [
    "# Method to generate the scatter plot\n",
    "def scatterPlot(df, x_parameter, y_parameter, color_data, marker_data, label_data):\n",
    "    plt.xlabel(x_parameter)\n",
    "    plt.ylabel(y_parameter)\n",
    "    plt.scatter(df[x_parameter], df[y_parameter], color=color_data, marker=marker_data, label=label_data)\n",
    "    plt.legend(loc='best')"
   ]
  },
  {
   "cell_type": "code",
   "execution_count": null,
   "metadata": {
    "scrolled": true
   },
   "outputs": [],
   "source": [
    "# Plotting to view clusters made by different species on the basis of Sepal properties\n",
    "scatterPlot(df_setosa, 'SepalLengthCm', 'SepalWidthCm', 'red', '+', 'setosa')\n",
    "scatterPlot(df_versicolor, 'SepalLengthCm', 'SepalWidthCm', 'blue', '.', 'versicolor')\n",
    "scatterPlot(df_virginica, 'SepalLengthCm', 'SepalWidthCm', 'green', '*', 'virginica')"
   ]
  },
  {
   "cell_type": "markdown",
   "metadata": {},
   "source": [
    "Here we can see a clear distinction between setosa in comparison to the other two species"
   ]
  },
  {
   "cell_type": "code",
   "execution_count": null,
   "metadata": {},
   "outputs": [],
   "source": [
    "# Plotting to view clusters made by different species on the basis of Petal properties\n",
    "scatterPlot(df_setosa, 'PetalLengthCm', 'PetalWidthCm', 'red', '+', 'setosa')\n",
    "scatterPlot(df_versicolor, 'PetalLengthCm', 'PetalWidthCm', 'blue', '.', 'versicolor')\n",
    "scatterPlot(df_virginica, 'PetalLengthCm', 'PetalWidthCm', 'green', '*', 'virginica')"
   ]
  },
  {
   "cell_type": "markdown",
   "metadata": {},
   "source": [
    "Here we can see that there is a clear distinction between all three species"
   ]
  },
  {
   "cell_type": "markdown",
   "metadata": {},
   "source": [
    "## Input and Target"
   ]
  },
  {
   "cell_type": "code",
   "execution_count": null,
   "metadata": {},
   "outputs": [],
   "source": [
    "# Creating a Target column from species column using map function\n",
    "df['Target'] =df.Species.map({'Iris-setosa':1,'Iris-versicolor':2,'Iris-virginica':3})\n",
    "# Storing input and target into respective variables\n",
    "inputs = df.iloc[:,1:-2]\n",
    "target = df.iloc[:,-1]\n",
    "# # Normalizing the data\n",
    "from sklearn.preprocessing import StandardScaler\n",
    "scaler = StandardScaler()\n",
    "inputs_scaled = scaler.fit_transform(inputs)"
   ]
  },
  {
   "cell_type": "markdown",
   "metadata": {},
   "source": [
    "## Using Scipy to Generate Dendrograms"
   ]
  },
  {
   "cell_type": "code",
   "execution_count": null,
   "metadata": {
    "scrolled": true
   },
   "outputs": [],
   "source": [
    "# Setting the linkage matrix\n",
    "z = linkage(inputs_scaled,'ward')\n",
    "dendrogram(z, p=12, truncate_mode='lastp', leaf_font_size=15, show_contracted=True)\n",
    "plt.title('Truncated Hierarchical Clustering Dendogram')\n",
    "plt.xlabel('Cluster Size')\n",
    "plt.ylabel('Distance')\n",
    "\n",
    "plt.axhline(y=20)\n",
    "plt.axhline(y=8)\n",
    "\n",
    "plt.show()"
   ]
  },
  {
   "cell_type": "markdown",
   "metadata": {},
   "source": [
    "For the horizontal line at 20 we can obtain 2 species clusters.  \n",
    "For the horizontal line at 8 we can obtain 3 species clusters.  "
   ]
  },
  {
   "cell_type": "markdown",
   "metadata": {},
   "source": [
    "## Model"
   ]
  },
  {
   "cell_type": "code",
   "execution_count": null,
   "metadata": {},
   "outputs": [],
   "source": [
    "# # Importing Agglomerative Clustering class\n",
    "# from sklearn.cluster import AgglomerativeClustering\n",
    "# # Importing Grid Search Cross validation class\n",
    "# from sklearn.model_selection import GridSearchCV\n",
    "# # Instantiating an object for Grid Search Cross validation class and passing Gaussian Navive Bayes model to find the best model\n",
    "# model = GridSearchCV(AgglomerativeClustering(n_clusters =2),{\n",
    "#     'affinity': ['euclidean','l1' ,'l2', 'cosine','manhattan'],\n",
    "#     'linkage': ['ward','complete', 'average', 'single']\n",
    "# }, return_train_score=False)\n",
    "# # Fitting the model with training data\n",
    "# model.fit(inputs_scaled)\n",
    "# # Storing the results as a dataframe & displaying it\n",
    "# df_results = pd.DataFrame(model.cv_results_)\n",
    "# df_results"
   ]
  },
  {
   "cell_type": "code",
   "execution_count": null,
   "metadata": {},
   "outputs": [],
   "source": [
    "#Viewing The best accuracy\n",
    "print(\"Train Accuracy: \"+str(model.best_score_))"
   ]
  },
  {
   "cell_type": "code",
   "execution_count": null,
   "metadata": {},
   "outputs": [],
   "source": [
    "def silhouette_score(estimator, X):\n",
    "    clusters = estimator.fit_predict(X)\n",
    "    score = metrics.silhouette_score(distance_matrix, clusters, metric='precomputed')\n",
    "    return score\n",
    "\n",
    "ca = AgglomerativeClustering\n",
    "param_grid = {\"n_clusters\": range(2, 11)}\n",
    "\n",
    "# run randomized search\n",
    "search = GridSearchCV(\n",
    "    ca,\n",
    "    param_distributions=param_dist,\n",
    "    n_iter=n_iter_search,\n",
    "    scoring=silhouette_score,\n",
    "    cv= 1\n",
    "    )\n",
    "search.fit(distance_matrix)"
   ]
  },
  {
   "cell_type": "code",
   "execution_count": null,
   "metadata": {},
   "outputs": [],
   "source": []
  },
  {
   "cell_type": "code",
   "execution_count": null,
   "metadata": {},
   "outputs": [],
   "source": []
  },
  {
   "cell_type": "code",
   "execution_count": null,
   "metadata": {},
   "outputs": [],
   "source": [
    "# k = 3\n",
    "# hc = AgglomerativeClustering(n_clusters = k,affinity = 'euclidean', linkage = 'ward')\n",
    "# hc.fit(X)\n",
    "\n",
    "# sm.accuracy_score(y, hc.labels_)"
   ]
  },
  {
   "cell_type": "code",
   "execution_count": null,
   "metadata": {},
   "outputs": [],
   "source": [
    "# k = 3\n",
    "# hc = AgglomerativeClustering(n_clusters = k,affinity = 'euclidean', linkage = 'average')\n",
    "# hc.fit(X)\n",
    "\n",
    "# sm.accuracy_score(y, hc.labels_)"
   ]
  },
  {
   "cell_type": "code",
   "execution_count": null,
   "metadata": {},
   "outputs": [],
   "source": [
    "# k = 3\n",
    "# hc = AgglomerativeClustering(n_clusters = k,affinity = 'manhattan', linkage = 'average')\n",
    "# hc.fit(X)\n",
    "\n",
    "# sm.accuracy_score(y, hc.labels_)"
   ]
  }
 ],
 "metadata": {
  "kernelspec": {
   "display_name": "Python 3",
   "language": "python",
   "name": "python3"
  },
  "language_info": {
   "codemirror_mode": {
    "name": "ipython",
    "version": 3
   },
   "file_extension": ".py",
   "mimetype": "text/x-python",
   "name": "python",
   "nbconvert_exporter": "python",
   "pygments_lexer": "ipython3",
   "version": "3.7.7"
  }
 },
 "nbformat": 4,
 "nbformat_minor": 4
}
